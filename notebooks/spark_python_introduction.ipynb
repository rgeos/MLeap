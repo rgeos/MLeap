{
 "cells": [
  {
   "cell_type": "markdown",
   "metadata": {
    "collapsed": true
   },
   "source": [
    "# Introduction to ![spark](pics/spark.png) using ![scala](pics/python.png)"
   ]
  },
  {
   "cell_type": "markdown",
   "metadata": {},
   "source": [
    "### Checking the version of spark"
   ]
  },
  {
   "cell_type": "code",
   "execution_count": null,
   "metadata": {
    "collapsed": false
   },
   "outputs": [],
   "source": [
    "spark.version"
   ]
  },
  {
   "cell_type": "markdown",
   "metadata": {},
   "source": [
    "### Create a dataframe"
   ]
  },
  {
   "cell_type": "code",
   "execution_count": null,
   "metadata": {
    "collapsed": true
   },
   "outputs": [],
   "source": [
    "myRange = spark.range(1000).toDF(\"range\")"
   ]
  },
  {
   "cell_type": "code",
   "execution_count": null,
   "metadata": {
    "collapsed": false
   },
   "outputs": [],
   "source": [
    "myRange"
   ]
  },
  {
   "cell_type": "markdown",
   "metadata": {},
   "source": [
    "### Some transformations\n",
    "\n",
    "- Spark will not act on transformations.\n",
    "- All transformations in Spark are lazy => we wait until an action is called\n",
    "- Spark will create a DAG (Directed Acyclic Graph) and act upon the source data\n",
    "- Spark will optimize the pipeline\n",
    "- Examples of [transformations](https://spark.apache.org/docs/latest/rdd-programming-guide.html#transformations): map, filter, join, groupBy, sortByKey ... etc"
   ]
  },
  {
   "cell_type": "code",
   "execution_count": null,
   "metadata": {
    "collapsed": true
   },
   "outputs": [],
   "source": [
    "div3 = myRange.where(\"range % 3 = 0\")"
   ]
  },
  {
   "cell_type": "markdown",
   "metadata": {},
   "source": [
    "### Action\n",
    "\n",
    "- Trigger the computation on the logic transformation\n",
    "- Examples of [actions](https://spark.apache.org/docs/latest/rdd-programming-guide.html#actions): reduce, count, collect, take, saveAsTextFile ... etc"
   ]
  },
  {
   "cell_type": "code",
   "execution_count": null,
   "metadata": {
    "collapsed": false
   },
   "outputs": [],
   "source": [
    "div3.count()"
   ]
  },
  {
   "cell_type": "markdown",
   "metadata": {},
   "source": [
    "We can check the results using the Spark UI: http://localhost:4040/"
   ]
  },
  {
   "cell_type": "code",
   "execution_count": null,
   "metadata": {
    "collapsed": false
   },
   "outputs": [],
   "source": [
    "div3.filter(div3[\"range\"] < 25).show()"
   ]
  },
  {
   "cell_type": "code",
   "execution_count": null,
   "metadata": {
    "collapsed": false
   },
   "outputs": [],
   "source": [
    "div3.filter(\"range > 10 AND range < 25\").count()"
   ]
  },
  {
   "cell_type": "markdown",
   "metadata": {},
   "source": [
    "### Loading some data"
   ]
  },
  {
   "cell_type": "code",
   "execution_count": null,
   "metadata": {
    "collapsed": true
   },
   "outputs": [],
   "source": [
    "data = spark.read\\\n",
    "    .option(\"inferSchema\", \"true\")\\\n",
    "    .option(\"header\", \"true\")\\\n",
    "    .csv(\"data/titanic.csv\")"
   ]
  },
  {
   "cell_type": "markdown",
   "metadata": {},
   "source": [
    "If we are calling this data frequently, it is better to cache it for faster access."
   ]
  },
  {
   "cell_type": "code",
   "execution_count": null,
   "metadata": {
    "collapsed": false
   },
   "outputs": [],
   "source": [
    "data.cache()"
   ]
  },
  {
   "cell_type": "code",
   "execution_count": null,
   "metadata": {
    "collapsed": false
   },
   "outputs": [],
   "source": [
    "data.count()"
   ]
  },
  {
   "cell_type": "code",
   "execution_count": null,
   "metadata": {
    "collapsed": false
   },
   "outputs": [],
   "source": [
    "# data.take(3)\n",
    "data.head(3)"
   ]
  },
  {
   "cell_type": "code",
   "execution_count": null,
   "metadata": {
    "collapsed": false
   },
   "outputs": [],
   "source": [
    "# data.show(3, truncate=False)\n",
    "# data.select(\"Survived\", \"Sex\", \"Age\").show(10)\n",
    "data.show(3)"
   ]
  },
  {
   "cell_type": "code",
   "execution_count": null,
   "metadata": {
    "collapsed": false
   },
   "outputs": [],
   "source": [
    "data.columns"
   ]
  },
  {
   "cell_type": "code",
   "execution_count": null,
   "metadata": {
    "collapsed": false
   },
   "outputs": [],
   "source": [
    "data.printSchema()"
   ]
  },
  {
   "cell_type": "code",
   "execution_count": null,
   "metadata": {
    "collapsed": false
   },
   "outputs": [],
   "source": [
    "# summary statistics about the data\n",
    "# data.describe('Sex').show()\n",
    "data.describe().show()"
   ]
  },
  {
   "cell_type": "markdown",
   "metadata": {},
   "source": [
    "### DataFrames overview\n",
    "\n",
    " - __Immutable__: once created cannot be changed. we applying transformation to the existing DF, a new one will be created\n",
    " - __Lazy__: unless there is an action performed on the DF, no transformaton will be computed\n",
    " - __Distributed__"
   ]
  },
  {
   "cell_type": "markdown",
   "metadata": {},
   "source": [
    "### Manipulating DataFrames (or SparkSQL)\n",
    "\n",
    "- __sort()__ :\n",
    "\n",
    "    - When we are using `sort`, spark will not perform anything on the data, because it is just a transformation. However, it will create a plan for when an action is called. We can use `explain` to see the plan.\n",
    "    - When reading the `explain`, on top we have the end result and at the bottom is the data we start with.\n",
    "    - Only when we call an action on the data frame, the entire DAG is computed as shown in the `explain` pipeline"
   ]
  },
  {
   "cell_type": "code",
   "execution_count": null,
   "metadata": {
    "collapsed": false
   },
   "outputs": [],
   "source": [
    "data.sort(\"Survived\").explain()"
   ]
  },
  {
   "cell_type": "code",
   "execution_count": null,
   "metadata": {
    "collapsed": false
   },
   "outputs": [],
   "source": [
    "from pyspark.sql.functions import desc\n",
    "\n",
    "data.sort(desc(\"Survived\")).show(2)"
   ]
  },
  {
   "cell_type": "markdown",
   "metadata": {},
   "source": [
    "### Manipulating DataFrames (or SparkSQL)\n",
    "\n",
    "- __createOrReplaceTempView()__\n",
    "    - Spark SQL will create a temporary table from your DataFrame, which you can query with normal SQL\n",
    "    - The temporary table can be manipulated with DataFrame code also\n",
    "    - There is no performance difference between SQL and DF code"
   ]
  },
  {
   "cell_type": "code",
   "execution_count": null,
   "metadata": {
    "collapsed": true
   },
   "outputs": [],
   "source": [
    "data.createOrReplaceTempView(\"titanic_data\")"
   ]
  },
  {
   "cell_type": "code",
   "execution_count": null,
   "metadata": {
    "collapsed": false
   },
   "outputs": [],
   "source": [
    "# this is a SparSQL query\n",
    "\n",
    "spark.sql(\"\"\"\n",
    "    SELECT Sex, Survived, count(Survived) as count FROM titanic_data GROUP BY Sex, Survived ORDER BY Sex\n",
    "\"\"\").show()"
   ]
  },
  {
   "cell_type": "code",
   "execution_count": null,
   "metadata": {
    "collapsed": false
   },
   "outputs": [],
   "source": [
    "# this is a Spark DataFrame query\n",
    "data.groupBy(\"Sex\", \"Survived\").count().sort(\"Sex\").show()"
   ]
  },
  {
   "cell_type": "markdown",
   "metadata": {},
   "source": [
    "### Manipulating DataFrames (or SparkSQL)\n",
    "\n",
    "- __crosstab__(*col1, col2*)\n",
    "    - pairwise frequency (contigency table)"
   ]
  },
  {
   "cell_type": "code",
   "execution_count": null,
   "metadata": {
    "collapsed": false
   },
   "outputs": [],
   "source": [
    "data.crosstab(\"Sex\", \"Survived\").show()"
   ]
  },
  {
   "cell_type": "markdown",
   "metadata": {
    "collapsed": true
   },
   "source": [
    "### Manipulating DataFrames (or SparkSQL)\n",
    "\n",
    "- __distinct()__\n",
    "    - this will return a new DF containing the distinct rows in the original DF"
   ]
  },
  {
   "cell_type": "code",
   "execution_count": null,
   "metadata": {
    "collapsed": false
   },
   "outputs": [],
   "source": [
    "data.select('Embarked').distinct().show()"
   ]
  },
  {
   "cell_type": "markdown",
   "metadata": {},
   "source": [
    "### Manipulating DataFrames (or SparkSQL)\n",
    "\n",
    "- __dropna__(*how='any', thresh=None, subset=None*)\n",
    "    - this will return a new DF omitting the rows containing null values\n",
    "    \n",
    "\n",
    "- __fillna__(*value, subset=None*)\n",
    "    - it will replace null values"
   ]
  },
  {
   "cell_type": "code",
   "execution_count": null,
   "metadata": {
    "collapsed": false
   },
   "outputs": [],
   "source": [
    "data.count(), data.dropna(subset=\"Embarked\").count()\n",
    "#data.count(), data.dropna().count()"
   ]
  },
  {
   "cell_type": "code",
   "execution_count": null,
   "metadata": {
    "collapsed": false
   },
   "outputs": [],
   "source": [
    "data.fillna(\"X\", subset=\"Embarked\").select(\"Embarked\").distinct().show()"
   ]
  },
  {
   "cell_type": "markdown",
   "metadata": {},
   "source": [
    "### Manipulating DataFrames (or SparkSQL)\n",
    "\n",
    "- __filter__(*condition*)\n",
    "    - this will filter rows given a certain condition"
   ]
  },
  {
   "cell_type": "code",
   "execution_count": null,
   "metadata": {
    "collapsed": false
   },
   "outputs": [],
   "source": [
    "# data.filter(data.Sex == \"male\").count()\n",
    "# data.filter(data[\"Sex\"] == \"female\").count()\n",
    "data.filter(data.Age < 25).count()"
   ]
  },
  {
   "cell_type": "markdown",
   "metadata": {},
   "source": [
    "### Manipulating DataFrames (or SparkSQL)\n",
    "\n",
    "- __groupBy__(*\\*cols*)\n",
    "    - groups the specified columns and runs aggregations on it\n",
    "    \n",
    "    \n",
    "- __agg__(*\\*expression*)\n",
    "    - aggregating on a DF"
   ]
  },
  {
   "cell_type": "code",
   "execution_count": null,
   "metadata": {
    "collapsed": false
   },
   "outputs": [],
   "source": [
    "data.groupBy(\"Sex\").agg({\"Age\": \"average\"}).show()"
   ]
  },
  {
   "cell_type": "code",
   "execution_count": null,
   "metadata": {
    "collapsed": false
   },
   "outputs": [],
   "source": [
    "data.agg({\"Age\": \"max\"}).show()"
   ]
  },
  {
   "cell_type": "code",
   "execution_count": null,
   "metadata": {
    "collapsed": false
   },
   "outputs": [],
   "source": [
    "data.groupBy(\"Sex\").count().show()"
   ]
  },
  {
   "cell_type": "markdown",
   "metadata": {},
   "source": [
    "### Manipulating DataFrames (or SparkSQL)\n",
    "\n",
    "Something more complex:\n",
    " - transform the data frame into RDD (resilient distributed dataset)\n",
    " - apply a mapping function to each row in the data frame\n",
    " - transform it back to a data frame\n",
    " - rename the column to `gender`\n",
    " - order descending by `gender` column"
   ]
  },
  {
   "cell_type": "code",
   "execution_count": null,
   "metadata": {
    "collapsed": true
   },
   "outputs": [],
   "source": [
    "def getGender(string):\n",
    "    if(string == 'male'): return 0\n",
    "    elif(string == 'female'): return 1\n",
    "    else: return -1"
   ]
  },
  {
   "cell_type": "code",
   "execution_count": null,
   "metadata": {
    "collapsed": false
   },
   "outputs": [],
   "source": [
    "rdd = data.select(\"Sex\").rdd.map(lambda x: getGender(x.Sex))\n",
    "df = spark.createDataFrame(rdd, \"int\").withColumnRenamed('value', 'Gender')\n",
    "df.orderBy(df.Gender.desc()).show(5)"
   ]
  },
  {
   "cell_type": "markdown",
   "metadata": {},
   "source": [
    "### Manipulating DataFrames (or SparkSQL)\n",
    "\n",
    "Same thing as above, but using UDF (user defined functions)"
   ]
  },
  {
   "cell_type": "code",
   "execution_count": null,
   "metadata": {
    "collapsed": false
   },
   "outputs": [],
   "source": [
    "from pyspark.sql.functions import udf\n",
    "from pyspark.sql.types import *"
   ]
  },
  {
   "cell_type": "code",
   "execution_count": null,
   "metadata": {
    "collapsed": false
   },
   "outputs": [],
   "source": [
    "udf_gender = udf(lambda x: getGender(x))\n",
    "\n",
    "new_data = data.withColumn('Gender', udf_gender(data.Sex))"
   ]
  },
  {
   "cell_type": "code",
   "execution_count": null,
   "metadata": {
    "collapsed": false
   },
   "outputs": [],
   "source": [
    "new_data.show()"
   ]
  },
  {
   "cell_type": "code",
   "execution_count": null,
   "metadata": {
    "collapsed": true
   },
   "outputs": [],
   "source": []
  }
 ],
 "metadata": {
  "anaconda-cloud": {},
  "kernelspec": {
   "display_name": "Python [default]",
   "language": "python",
   "name": "python3"
  },
  "language_info": {
   "codemirror_mode": {
    "name": "ipython",
    "version": 3
   },
   "file_extension": ".py",
   "mimetype": "text/x-python",
   "name": "python",
   "nbconvert_exporter": "python",
   "pygments_lexer": "ipython3",
   "version": "3.5.2"
  }
 },
 "nbformat": 4,
 "nbformat_minor": 1
}
